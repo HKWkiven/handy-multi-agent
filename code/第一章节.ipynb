{
 "cells": [
  {
   "cell_type": "markdown",
   "metadata": {},
   "source": [
    "### **使用语言模型**"
   ]
  },
  {
   "cell_type": "code",
   "execution_count": 7,
   "metadata": {},
   "outputs": [
    {
     "name": "stdout",
     "output_type": "stream",
     "text": [
      "你好，我是来自阿里云的大规模语言模型，我叫通义千问。我可以生成各种类型的文本，如文章、故事、诗歌、故事等，并能够根据不同的场景和需求进行变换和扩展。此外，我还能够回答各种问题，提供帮助和解决方案。如果你有任何问题或需要帮助，请随时告诉我，我会尽力提供支持。\n"
     ]
    }
   ],
   "source": [
    "from camel.agents import ChatAgent\n",
    "from camel.models import ModelFactory\n",
    "from camel.types import ModelPlatformType\n",
    "\n",
    "from dotenv import load_dotenv\n",
    "import os\n",
    "\n",
    "load_dotenv()\n",
    "\n",
    "api_key = os.getenv('QWEN_API_KEY')\n",
    "\n",
    "model = ModelFactory.create(\n",
    "    model_platform=ModelPlatformType.OPENAI_COMPATIBLE_MODEL,\n",
    "    model_type=\"Qwen/Qwen2.5-72B-Instruct\",\n",
    "    url='https://api-inference.modelscope.cn/v1/',\n",
    "    api_key=api_key\n",
    ")\n",
    "\n",
    "agent = ChatAgent(\n",
    "    model=model,\n",
    "    output_language='中文'\n",
    ")\n",
    "\n",
    "response = agent.step(\"你好，你是谁？\")\n",
    "print(response.msgs[0].content)"
   ]
  },
  {
   "cell_type": "markdown",
   "metadata": {},
   "source": [
    "### **使用多模态模型**"
   ]
  },
  {
   "cell_type": "code",
   "execution_count": 1,
   "metadata": {},
   "outputs": [
    {
     "name": "stdout",
     "output_type": "stream",
     "text": [
      "2025-03-04 21:36:51,934 - root - WARNING - Invalid or missing `max_tokens` in `model_config_dict`. Defaulting to 999_999_999 tokens.\n",
      "这是一张金毛寻回犬的特写照片。这只狗有着浓密的金色毛发，耳朵垂在头部两侧，眼睛明亮而有神，黑色的鼻子显得很突出。它的嘴巴微微张开，露出了粉红色的舌头，看起来非常友好和活泼。背景是一片模糊的绿色，可能是在户外的自然环境中拍摄的。整体来说，这张照片展示了一只健康、快乐的金毛寻回犬，它的表情充满了热情和活力。\n"
     ]
    }
   ],
   "source": [
    "from camel.agents import ChatAgent\n",
    "from camel.models import ModelFactory\n",
    "from camel.types import ModelPlatformType\n",
    "from camel.messages import BaseMessage\n",
    "\n",
    "from io import BytesIO\n",
    "import requests\n",
    "from PIL import Image\n",
    "from dotenv import load_dotenv\n",
    "import os\n",
    "\n",
    "load_dotenv()\n",
    "\n",
    "api_key = os.getenv('QWEN_API_KEY')\n",
    "\n",
    "model = ModelFactory.create(\n",
    "    model_platform=ModelPlatformType.OPENAI_COMPATIBLE_MODEL,\n",
    "    model_type=\"Qwen/QVQ-72B-Preview\",\n",
    "    url='https://api-inference.modelscope.cn/v1/',\n",
    "    api_key=api_key\n",
    ")\n",
    "\n",
    "agent = ChatAgent(\n",
    "    model=model,\n",
    "    output_language='中文'\n",
    ")\n",
    "\n",
    "# 图片URL\n",
    "url = \"https://img0.baidu.com/it/u=2205376118,3235587920&fm=253&fmt=auto&app=120&f=JPEG?w=846&h=800\"\n",
    "response = requests.get(url)\n",
    "img = Image.open(BytesIO(response.content))\n",
    "\n",
    "user_msg = BaseMessage.make_user_message(\n",
    "    role_name=\"User\", \n",
    "    content=\"请描述这张图片的内容\", \n",
    "    image_list=[img]  # 将图片放入列表中\n",
    ")\n",
    "\n",
    "response = agent.step(user_msg)\n",
    "print(response.msgs[0].content)"
   ]
  },
  {
   "cell_type": "code",
   "execution_count": null,
   "metadata": {},
   "outputs": [],
   "source": [
    "from camel.agents import ChatAgent\n",
    "from camel.models import ModelFactory\n",
    "from camel.types import ModelPlatformType\n",
    "from camel.messages import BaseMessage\n",
    "\n",
    "from dotenv import load_dotenv\n",
    "import os\n",
    "\n",
    "load_dotenv()\n",
    "\n",
    "api_key = os.getenv('QWEN_API_KEY')\n",
    "\n",
    "model = ModelFactory.create(\n",
    "    model_platform=ModelPlatformType.OPENAI_COMPATIBLE_MODEL,\n",
    "    model_type=\"Qwen/QVQ-72B-Preview\",\n",
    "    url='https://api-inference.modelscope.cn/v1/',\n",
    "    api_key=api_key\n",
    ")\n",
    "\n",
    "# 创建代理\n",
    "agent = ChatAgent(\n",
    "    model=model,\n",
    "    output_language='中文'\n",
    ")\n",
    "\n",
    "# 读取本地视频文件\n",
    "video_path = r\"C:\\Users\\SunTao\\Desktop\\camel-master\\第一章\\vedio_test.mp4\"\n",
    "with open(video_path, \"rb\") as video_file:\n",
    "    video_bytes = video_file.read()\n",
    "\n",
    "# 创建包含视频的用户消息\n",
    "user_msg = BaseMessage.make_user_message(\n",
    "    role_name=\"User\", \n",
    "    content=\"请描述这段视频的内容\", \n",
    "    video_bytes=video_bytes  # 将视频字节作为参数传入\n",
    ")\n",
    "\n",
    "# 获取模型响应\n",
    "response = agent.step(user_msg)\n",
    "print(response.msgs[0].content)"
   ]
  }
 ],
 "metadata": {
  "kernelspec": {
   "display_name": "camel-ai-py3.12",
   "language": "python",
   "name": "camel-ai-py3.12"
  },
  "language_info": {
   "codemirror_mode": {
    "name": "ipython",
    "version": 3
   },
   "file_extension": ".py",
   "mimetype": "text/x-python",
   "name": "python",
   "nbconvert_exporter": "python",
   "pygments_lexer": "ipython3",
   "version": "3.12.4"
  }
 },
 "nbformat": 4,
 "nbformat_minor": 2
}
